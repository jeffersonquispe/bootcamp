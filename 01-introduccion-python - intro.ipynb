{
 "cells": [
  {
   "cell_type": "markdown",
   "metadata": {},
   "source": [
    "# Python Inmersion Bootcamp\n",
    "Manuel Montoya Gamio| Data Scientist"
   ]
  },
  {
   "cell_type": "code",
   "execution_count": 19,
   "metadata": {},
   "outputs": [
    {
     "name": "stdout",
     "output_type": "stream",
     "text": [
      "The Zen of Python, by Tim Peters\n",
      "\n",
      "Beautiful is better than ugly.\n",
      "Explicit is better than implicit.\n",
      "Simple is better than complex.\n",
      "Complex is better than complicated.\n",
      "Flat is better than nested.\n",
      "Sparse is better than dense.\n",
      "Readability counts.\n",
      "Special cases aren't special enough to break the rules.\n",
      "Although practicality beats purity.\n",
      "Errors should never pass silently.\n",
      "Unless explicitly silenced.\n",
      "In the face of ambiguity, refuse the temptation to guess.\n",
      "There should be one-- and preferably only one --obvious way to do it.\n",
      "Although that way may not be obvious at first unless you're Dutch.\n",
      "Now is better than never.\n",
      "Although never is often better than *right* now.\n",
      "If the implementation is hard to explain, it's a bad idea.\n",
      "If the implementation is easy to explain, it may be a good idea.\n",
      "Namespaces are one honking great idea -- let's do more of those!\n"
     ]
    }
   ],
   "source": [
    "import this"
   ]
  },
  {
   "cell_type": "markdown",
   "metadata": {},
   "source": [
    "# Hello, world!"
   ]
  },
  {
   "cell_type": "code",
   "execution_count": 1,
   "metadata": {},
   "outputs": [
    {
     "name": "stdout",
     "output_type": "stream",
     "text": [
      "Hello, world!\n"
     ]
    }
   ],
   "source": [
    "print('Hello, world!')"
   ]
  },
  {
   "cell_type": "markdown",
   "metadata": {},
   "source": [
    "## Calculator"
   ]
  },
  {
   "cell_type": "markdown",
   "metadata": {},
   "source": [
    "## Operators"
   ]
  },
  {
   "cell_type": "markdown",
   "metadata": {},
   "source": [
    "`+ - * / ** // %`"
   ]
  },
  {
   "cell_type": "markdown",
   "metadata": {},
   "source": [
    "## Data types"
   ]
  },
  {
   "cell_type": "markdown",
   "metadata": {},
   "source": [
    "`type`"
   ]
  },
  {
   "cell_type": "markdown",
   "metadata": {},
   "source": [
    "`TypeError`"
   ]
  },
  {
   "cell_type": "markdown",
   "metadata": {},
   "source": [
    "## Variables"
   ]
  },
  {
   "cell_type": "markdown",
   "metadata": {},
   "source": [
    "<img src = 'https://starecat.com/content/wp-content/uploads/c-plus-plus-can-not-compare-float-and-int-python-variable-is-variable.jpg' width='250'>"
   ]
  },
  {
   "cell_type": "markdown",
   "metadata": {},
   "source": [
    "assignment"
   ]
  },
  {
   "cell_type": "markdown",
   "metadata": {},
   "source": [
    "expressions"
   ]
  },
  {
   "cell_type": "markdown",
   "metadata": {},
   "source": [
    "implicit and explicit casting"
   ]
  },
  {
   "cell_type": "markdown",
   "metadata": {},
   "source": [
    "rules for variable names"
   ]
  },
  {
   "cell_type": "markdown",
   "metadata": {},
   "source": [
    "reserved keywords: https://www.programiz.com/python-programming/keyword-list"
   ]
  },
  {
   "cell_type": "markdown",
   "metadata": {},
   "source": [
    "Operator precedence\n",
    "* Parenthesis\n",
    "* Exponents\n",
    "* Multiplication / division\n",
    "* Addition / substraction"
   ]
  },
  {
   "cell_type": "markdown",
   "metadata": {},
   "source": [
    "## Functions"
   ]
  },
  {
   "cell_type": "code",
   "execution_count": 3,
   "metadata": {},
   "outputs": [],
   "source": [
    "def greeting(name):\n",
    "    print('Hello, ' + name)"
   ]
  },
  {
   "cell_type": "markdown",
   "metadata": {},
   "source": [
    "more parameters"
   ]
  },
  {
   "cell_type": "markdown",
   "metadata": {},
   "source": [
    "returning values"
   ]
  },
  {
   "cell_type": "markdown",
   "metadata": {},
   "source": [
    "`None`"
   ]
  },
  {
   "cell_type": "markdown",
   "metadata": {},
   "source": [
    "area of a triangle"
   ]
  },
  {
   "cell_type": "markdown",
   "metadata": {},
   "source": [
    "sum of numbers"
   ]
  },
  {
   "cell_type": "markdown",
   "metadata": {},
   "source": [
    "code reuse"
   ]
  },
  {
   "cell_type": "code",
   "execution_count": 4,
   "metadata": {},
   "outputs": [
    {
     "name": "stdout",
     "output_type": "stream",
     "text": [
      "Hello, Karol, your lucky number is  5\n",
      "Hello, Rebecca, your lucky number is  7\n"
     ]
    }
   ],
   "source": [
    "name = 'Karol'\n",
    "number = len(name) \n",
    "print('Hello, ' + name + ', your lucky number is ', str(number))\n",
    "\n",
    "name = 'Rebecca'\n",
    "number = len(name) \n",
    "print('Hello, ' + name + ', your lucky number is ', str(number))"
   ]
  },
  {
   "cell_type": "markdown",
   "metadata": {},
   "source": [
    "code style"
   ]
  },
  {
   "cell_type": "code",
   "execution_count": 5,
   "metadata": {},
   "outputs": [],
   "source": [
    "def function(a):\n",
    "    x = 3.1416\n",
    "    v = x * a ** 2\n",
    "    return v"
   ]
  },
  {
   "cell_type": "markdown",
   "metadata": {},
   "source": [
    "## Comparing values"
   ]
  },
  {
   "cell_type": "markdown",
   "metadata": {},
   "source": [
    "comparison operators: ```> < == !=```"
   ]
  },
  {
   "cell_type": "markdown",
   "metadata": {},
   "source": [
    "logical operators: ```and or not```"
   ]
  },
  {
   "cell_type": "markdown",
   "metadata": {},
   "source": [
    "```1 < \"1\"```"
   ]
  },
  {
   "cell_type": "markdown",
   "metadata": {},
   "source": [
    "## Branching"
   ]
  },
  {
   "cell_type": "markdown",
   "metadata": {},
   "source": [
    "`if`"
   ]
  },
  {
   "cell_type": "markdown",
   "metadata": {},
   "source": [
    "positive"
   ]
  },
  {
   "cell_type": "markdown",
   "metadata": {},
   "source": [
    "username validation\n",
    "```def check_username(username):```"
   ]
  },
  {
   "cell_type": "markdown",
   "metadata": {},
   "source": [
    "# Exercises 1"
   ]
  },
  {
   "cell_type": "markdown",
   "metadata": {},
   "source": [
    "## 1.1 Taylor Swift"
   ]
  },
  {
   "cell_type": "markdown",
   "metadata": {},
   "source": [
    "Complete the script by filling in the missing parts. The function receives a name, then returns a greeting based on whether or not that name is \"Taylor\"."
   ]
  },
  {
   "cell_type": "code",
   "execution_count": 6,
   "metadata": {},
   "outputs": [
    {
     "name": "stdout",
     "output_type": "stream",
     "text": [
      "Hello there, \n",
      "Hello there, \n"
     ]
    }
   ],
   "source": [
    "def greeting(name):\n",
    "    if _:\n",
    "        return \"Welcome back Taylor!\"\n",
    "    else:\n",
    "        return \"Hello there, \" + _\n",
    "\n",
    "print(greeting(\"Taylor\"))\n",
    "print(greeting(\"John\"))"
   ]
  },
  {
   "cell_type": "markdown",
   "metadata": {},
   "source": [
    "## 1.2 Seconds, minutes and hours\n",
    "Write a function that gets a number of seconds and returns the number of hours, minutes and seconds\n",
    "\n",
    "```def convert_seconds(seconds)```\n",
    "\n",
    "convert_seconds(125) should return 0, 2, 5"
   ]
  },
  {
   "cell_type": "markdown",
   "metadata": {},
   "source": [
    "## 1.3 No pikachu\n",
    "<img src=\"https://am23.mediaite.com/tms/cnt/uploads/2018/09/Pokemon-G1-610x322.jpg\" width= 400px, align='left'>"
   ]
  },
  {
   "cell_type": "markdown",
   "metadata": {},
   "source": [
    "Write a function that chooses the rivals pokemon\n",
    "\n",
    "\n",
    "```\n",
    "rival_pokemon(\"charmander\") should return \"squirtle\"\n",
    "rival_pokemon(\"squirtle\") should return \"bulbasaur\"\n",
    "rival_pokemon(\"bulbasaur\") should return \"charmander\n",
    "```"
   ]
  },
  {
   "cell_type": "markdown",
   "metadata": {},
   "source": [
    "## 1.4 the python way\n",
    "Create a script that switches the value of two variables. "
   ]
  },
  {
   "cell_type": "code",
   "execution_count": 7,
   "metadata": {},
   "outputs": [],
   "source": [
    "a = 5\n",
    "b = 10\n",
    "\n",
    "#a should be 10 and b should be 5"
   ]
  },
  {
   "cell_type": "markdown",
   "metadata": {},
   "source": [
    "## 1.5 Miles to kilometers\n",
    "Write a script that converts miles to kilometers (1 mile is around 1.6 kilometers) and prints the distance of a trip"
   ]
  },
  {
   "cell_type": "code",
   "execution_count": 12,
   "metadata": {},
   "outputs": [
    {
     "name": "stdout",
     "output_type": "stream",
     "text": [
      "The distance in kilometers is 88.5115\n",
      "The round-trip in kilometers is 177.023\n"
     ]
    }
   ],
   "source": [
    "# 1) Complete the function to return the result of the conversion\n",
    "\n",
    "def convert_distance(miles):\n",
    "    km = miles * 1.6093\n",
    "    return km\n",
    "\n",
    "my_trip_miles = 55\n",
    "\n",
    "# 2) Convert my_trip_miles to kilometers by calling the function above\n",
    "my_trip_km = convert_distance(my_trip_miles)\n",
    "\n",
    "# 3) Fill in the blank to print the result of the conversion\n",
    "print(\"The distance in kilometers is \" + str(my_trip_km))\n",
    "\n",
    "# 4) Calculate the round-trip in kilometers by doubling the result, and fill in the blank to print the result\n",
    "print(\"The round-trip in kilometers is \" + str(my_trip_km*2))"
   ]
  },
  {
   "cell_type": "markdown",
   "metadata": {},
   "source": [
    "## 1.6 Exam pass/fail\n",
    "\n",
    "Students in the micromaster receive their grades as Pass/Fail. Scores of 70 or more (out of 100) mean that the grade is \"Pass\". For lower scores, the grade is \"Fail\". In addition, scores above 95 are graded as \"Top Score\". Fill in this function so that it returns the proper grade."
   ]
  },
  {
   "cell_type": "code",
   "execution_count": 16,
   "metadata": {},
   "outputs": [
    {
     "name": "stdout",
     "output_type": "stream",
     "text": [
      "Pass\n",
      "Fail\n",
      "Pass\n",
      "Pass\n",
      "Top Score\n",
      "Fail\n"
     ]
    }
   ],
   "source": [
    "def exam_grade(score):\n",
    "    grade = \"\"\n",
    "    if score <  70:\n",
    "        grade = \"Fail\"\n",
    "    elif score < 96:\n",
    "        grade = \"Pass\"\n",
    "    else: \n",
    "        grade = \"Top Score\"\n",
    "    return grade\n",
    "\n",
    "print(exam_grade(75)) # Should be Pass\n",
    "print(exam_grade(55)) # Should be Fail\n",
    "print(exam_grade(70)) # Should be Pass\n",
    "print(exam_grade(95)) # Should be Pass\n",
    "print(exam_grade(100)) # Should be Top Score\n",
    "print(exam_grade(0)) # Should be Fail"
   ]
  },
  {
   "cell_type": "markdown",
   "metadata": {},
   "source": [
    "# 1.7 Longest word \n",
    "The longest_word function is used to compare 3 words. It should return the word with the most number of characters (and the first in the list when they have the same length). Fill in the blank to make this happen."
   ]
  },
  {
   "cell_type": "code",
   "execution_count": 19,
   "metadata": {},
   "outputs": [
    {
     "name": "stdout",
     "output_type": "stream",
     "text": [
      "chair\n",
      "beyond\n",
      "desktop\n"
     ]
    }
   ],
   "source": [
    "def longest_word(word1, word2, word3):\n",
    "    if len(word1) >= len(word2) & len(word1) >= len(word3):\n",
    "        word = word1\n",
    "    elif len(word2) > len(word1) & len(word2) > len(word3):\n",
    "        word = word2\n",
    "    else:\n",
    "        word = word3\n",
    "    \n",
    "    return(word)\n",
    "\n",
    "print(longest_word(\"chair\", \"couch\", \"table\"))\n",
    "print(longest_word(\"bed\", \"bath\", \"beyond\"))\n",
    "print(longest_word(\"laptop\", \"notebook\", \"desktop\"))"
   ]
  },
  {
   "cell_type": "markdown",
   "metadata": {
    "tags": []
   },
   "source": [
    "## 1.8 Left padding\n",
    "An ecommerce company stores the serial number of client orders as integers. Since they are migrating to a new database they want to change the format to an eight digit string with leading zeros. That way, order 123 should become order 00000123, order 12345 should become order 00012345.\n",
    "\n",
    "Write a function that adds leading zeros to the store order numbers and returns a formated padded string"
   ]
  },
  {
   "cell_type": "code",
   "execution_count": 23,
   "metadata": {},
   "outputs": [
    {
     "name": "stdout",
     "output_type": "stream",
     "text": [
      "00012345\n",
      "01234567\n",
      "12345678\n"
     ]
    }
   ],
   "source": [
    "def lpadding(number):\n",
    "\n",
    "    #your beautiful code here\n",
    "    number=str(number)\n",
    "    padded_string = number.zfill(8)\n",
    "    return padded_string\n",
    "\n",
    "\n",
    "#should return \"00012345\"\n",
    "print(lpadding(12345))\n",
    "\n",
    "#should return \"01234567\"\n",
    "print(lpadding(1234567))\n",
    "\n",
    "#should return \"12345678\"\n",
    "print(lpadding(12345678))"
   ]
  },
  {
   "cell_type": "markdown",
   "metadata": {},
   "source": [
    "## 1.9 Name formatting\n",
    "Write a program that formats the first and last name of a given character according to the given parameters\n",
    "\n",
    "```\n",
    "print(format_name(\"Ella\", \"Fitzgerald\"))\n",
    "Name: Fitzgerald, Ella\n",
    "\n",
    "print(format_name(\"Ella\", \"Fitzgerald\"))\n",
    "Name: Fitzgerald, Ella\n",
    "\n",
    "print(format_name(\"\", \"Einstein\"))\n",
    "Name: Einstein\n",
    "```"
   ]
  },
  {
   "cell_type": "code",
   "execution_count": 28,
   "metadata": {},
   "outputs": [
    {
     "name": "stdout",
     "output_type": "stream",
     "text": [
      "Name: Hemingway, Ernest\n",
      "Name: Madonna\n",
      "Name: Voltaire\n",
      "\n"
     ]
    }
   ],
   "source": [
    "def format_name(first_name, last_name):\n",
    "    if len(first_name)!= 0 and len(last_name)!=0:\n",
    "        string = \"Name: \" + last_name + \", \" +first_name \n",
    "    elif len(first_name)!= 0 or  len(last_name)!=0:\n",
    "        string = \"Name: \" + last_name + first_name \n",
    "    else: \n",
    "        string = \"\"\n",
    "    return string \n",
    "\n",
    "\n",
    "print(format_name(\"Ernest\", \"Hemingway\"))\n",
    "# Should return \"Name: Hemingway, Ernest\"\n",
    "\n",
    "print(format_name(\"\", \"Madonna\"))\n",
    "# Should return \"Name: Madonna\"\n",
    "\n",
    "print(format_name(\"Voltaire\", \"\"))\n",
    "# Should return \"Name: Voltaire\"\n",
    "\n",
    "print(format_name(\"\", \"\"))\n",
    "# Should return an empty string"
   ]
  },
  {
   "cell_type": "markdown",
   "metadata": {
    "tags": []
   },
   "source": [
    "## 1.10 Number of blocks \n",
    "A filesystem has a block size of 4096 bytes. This means that a file of only 1 byte will use 1 block of 4096 bytes, a file of 4097 bytes will use 2 blocks of 4096 bytes. Complete the function to calculate the number of blocks that a file will use."
   ]
  },
  {
   "cell_type": "code",
   "execution_count": 31,
   "metadata": {},
   "outputs": [
    {
     "name": "stdout",
     "output_type": "stream",
     "text": [
      "4096\n",
      "4096\n",
      "8192\n",
      "8192\n"
     ]
    }
   ],
   "source": [
    "def calculate_storage(filesize):\n",
    "    \n",
    "    block_size = 4096\n",
    "\n",
    "    # Use floor division to calculate how many blocks are fully occupied\n",
    "    full_blocks = (filesize + block_size -  1) // block_size\n",
    "\n",
    "    return full_blocks * block_size\n",
    "\n",
    "print(calculate_storage(1))    # Should be 4096\n",
    "print(calculate_storage(4096)) # Should be 4096\n",
    "print(calculate_storage(4097)) # Should be 8192\n",
    "print(calculate_storage(6000)) # Should be 8192"
   ]
  },
  {
   "cell_type": "markdown",
   "metadata": {
    "tags": []
   },
   "source": [
    "## 1.11 Fractional part\n",
    "Write a function that returns the fractional part of a division (a number between 0 and 1). For example, if the numerator is 10 and the denominator is 3 it should return 0.333"
   ]
  },
  {
   "cell_type": "code",
   "execution_count": 40,
   "metadata": {},
   "outputs": [
    {
     "name": "stdout",
     "output_type": "stream",
     "text": [
      "0.0\n",
      "0.25\n",
      "0.5\n",
      "0\n",
      "0\n"
     ]
    }
   ],
   "source": [
    "def fractional_part(numerator, denominator):\n",
    "    \n",
    "    if numerator==0 or denominator==0:\n",
    "        return 0\n",
    "    else:\n",
    "        return float(numerator%denominator)/denominator\n",
    "\n",
    "print(fractional_part(5, 5)) # Should be 0\n",
    "print(fractional_part(5, 4)) # Should be 0.25\n",
    "print(fractional_part(5, 2)) # Should be 0.5\n",
    "print(fractional_part(5, 0)) # Should be 0\n",
    "print(fractional_part(0, 5)) # Should be 0"
   ]
  },
  {
   "cell_type": "code",
   "execution_count": 1,
   "metadata": {},
   "outputs": [
    {
     "name": "stdout",
     "output_type": "stream",
     "text": [
      "3  *  1  =  3\n",
      "3  *  2  =  6\n",
      "3  *  3  =  9\n"
     ]
    }
   ],
   "source": [
    "def multiplication_table(start, stop):\n",
    "    ourRange = range(start,stop+1)\n",
    "    for x in ourRange:\n",
    "        result = stop * x\n",
    "        print(stop,\" * \",x,\" = \",result)\n",
    "\n",
    "\n",
    "multiplication_table(1, 3)\n",
    "# Should print the multiplication table shown above"
   ]
  },
  {
   "cell_type": "markdown",
   "metadata": {},
   "source": [
    "<img src=\"https://am23.mediaite.com/tms/cnt/uploads/2018/09/Pokemon-G1-610x322.jpg\" width= 400px, align='left'>"
   ]
  },
  {
   "cell_type": "markdown",
   "metadata": {},
   "source": [
    "Elegir el pokemon más fuerte contra el pokemon del rival"
   ]
  },
  {
   "cell_type": "code",
   "execution_count": null,
   "metadata": {},
   "outputs": [],
   "source": [
    "pokemon_rival = 'Charmander'"
   ]
  },
  {
   "cell_type": "markdown",
   "metadata": {},
   "source": [
    "## 1.12 Secure password generator\n",
    "\n",
    "Use a Python script to generate a random password of 10 characters. \n",
    "Each time the program is run, a new password should be generated randomly. \n",
    "\n",
    "The password must contain:\n",
    "* 4 uppercase letters from A to Z,\n",
    "* 4 lowercase letters from a to z,\n",
    "* 2 digits from 0 to 9"
   ]
  },
  {
   "cell_type": "code",
   "execution_count": 24,
   "metadata": {},
   "outputs": [
    {
     "name": "stdout",
     "output_type": "stream",
     "text": [
      "JqS6a5OxdJ\n",
      "HiLczB9H2b\n",
      "K5iviLXI6z\n"
     ]
    }
   ],
   "source": [
    "import random\n",
    "import string\n",
    "import secrets\n",
    "\n",
    "\n",
    "def shuffle(string):\n",
    "    '''this function shuffles the order of the characters of a given string'''\n",
    "\n",
    "    tempList = list(string)\n",
    "    random.shuffle(tempList)\n",
    "    \n",
    "    return ''.join(tempList)\n",
    "\n",
    "\n",
    "def password_generator():\n",
    "\n",
    "    letters = string.ascii_letters\n",
    "    digits = string.digits\n",
    "    special_chars = string.punctuation\n",
    "    alphabet_1 = letters\n",
    "    alphabet_2 = letters\n",
    "    pwd_length = 4\n",
    "    dig_length = 2\n",
    "    pwd1 = ''\n",
    "    pwd2 = ''\n",
    "    pwd3 = ''\n",
    "    for i in range(pwd_length):\n",
    "      pwd1 += ''.join(secrets.choice(alphabet_1.upper()))\n",
    "\n",
    "    for i in range(pwd_length):\n",
    "      pwd2 += ''.join(secrets.choice(alphabet_2.lower()))\n",
    "    \n",
    "    for i in range(dig_length):\n",
    "      pwd3 += ''.join(secrets.choice(digits))\n",
    "    \n",
    "    cadena = pwd1 + pwd2 + pwd3\n",
    "    #shuffle(cadena)\n",
    "       \n",
    "    return shuffle(cadena)\n",
    "    \n",
    "\n",
    "#should be three different passwords\n",
    "print(password_generator())\n",
    "print(password_generator())\n",
    "print(password_generator())"
   ]
  },
  {
   "cell_type": "markdown",
   "metadata": {},
   "source": [
    "## Referencias\n",
    "\n",
    "* Python for everybody (Coursera): https://www.coursera.org/specializations/python\n",
    "* Python for everybody (book): https://www.py4e.com/book.php"
   ]
  },
  {
   "cell_type": "markdown",
   "metadata": {},
   "source": [
    "## Contact\n",
    "\n",
    "Manuel Montoya Gamio\n",
    "* Correo: manuel.montoya@pucp.edu.pe\n",
    "* Telegram / Whatsapp: +56942703126"
   ]
  }
 ],
 "metadata": {
  "kernelspec": {
   "display_name": "Python 3 (ipykernel)",
   "language": "python",
   "name": "python3"
  },
  "language_info": {
   "codemirror_mode": {
    "name": "ipython",
    "version": 3
   },
   "file_extension": ".py",
   "mimetype": "text/x-python",
   "name": "python",
   "nbconvert_exporter": "python",
   "pygments_lexer": "ipython3",
   "version": "3.9.7"
  }
 },
 "nbformat": 4,
 "nbformat_minor": 4
}
